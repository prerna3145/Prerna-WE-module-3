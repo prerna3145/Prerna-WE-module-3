{
  "nbformat": 4,
  "nbformat_minor": 0,
  "metadata": {
    "colab": {
      "provenance": []
    },
    "kernelspec": {
      "name": "python3",
      "display_name": "Python 3"
    },
    "language_info": {
      "name": "python"
    }
  },
  "cells": [
    {
      "cell_type": "code",
      "execution_count": null,
      "metadata": {
        "id": "6H8YGyIFBv2W"
      },
      "outputs": [],
      "source": []
    },
    {
      "cell_type": "code",
      "source": [
        "import random\n",
        "from collections import defaultdict\n",
        "\n",
        "def build_markov_chain(words):\n",
        "    markov_chain = defaultdict(list)\n",
        "    for i in range(len(words) - 1):\n",
        "        current_word = words[i]\n",
        "        next_word = words[i + 1]\n",
        "        markov_chain[current_word].append(next_word)\n",
        "    return markov_chain\n",
        "\n",
        "def guess_next_word(markov_chain, start_word):\n",
        "    return random.choice(markov_chain.get(start_word, []))\n",
        "\n",
        "def generate_text_from_markov_chain(markov_chain, start_word, output_length):\n",
        "    output_text = [start_word]\n",
        "    for _ in range(output_length - 1):\n",
        "        next_word = guess_next_word(markov_chain, output_text[-1])\n",
        "        if next_word:\n",
        "            output_text.append(next_word)\n",
        "        else:\n",
        "            break\n",
        "    return ' '.join(output_text)\n",
        "\n",
        "# Test case\n",
        "input_text = \"I like to eat apples. Apples are tasty fruits. I enjoy eating apples.\"\n",
        "start_word = \"apples\"\n",
        "output_length = 10\n",
        "\n",
        "# Preprocessing\n",
        "words = input_text.split()\n",
        "markov_chain = build_markov_chain(words)\n",
        "\n",
        "# Generating text\n",
        "output_text = generate_text_from_markov_chain(markov_chain, start_word, output_length)\n",
        "print(\"Generated text:\", output_text)\n"
      ],
      "metadata": {
        "id": "7YgG7QlJBwPR"
      },
      "execution_count": null,
      "outputs": []
    }
  ]
}