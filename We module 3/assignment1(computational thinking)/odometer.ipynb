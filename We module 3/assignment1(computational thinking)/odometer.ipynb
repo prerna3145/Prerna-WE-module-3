{
  "nbformat": 4,
  "nbformat_minor": 0,
  "metadata": {
    "colab": {
      "provenance": []
    },
    "kernelspec": {
      "name": "python3",
      "display_name": "Python 3"
    },
    "language_info": {
      "name": "python"
    }
  },
  "cells": [
    {
      "cell_type": "code",
      "execution_count": null,
      "metadata": {
        "id": "8HK4FEOsErOZ"
      },
      "outputs": [],
      "source": [
        "class Odometer:\n",
        "    @staticmethod\n",
        "    def is_ascending(k: int) -> bool:\n",
        "        return all(a < b for a, b in zip(str(k), str(k)[1:]))\n",
        "\n",
        "    def __init__(self, size):\n",
        "        self.SIZE = size\n",
        "        self.START = int(''.join(str(i) for i in range(1, size + 1)))\n",
        "        self.LIMIT = int(''.join(str(i) for i in range(10 - size, 10)))\n",
        "        self.reading = self.START\n",
        "\n",
        "    def __repr__(self):\n",
        "        return f'{self.START}<{self.reading}>{self.LIMIT}'\n",
        "\n",
        "    def __str__(self):\n",
        "        return str(self.reading)\n",
        "\n",
        "    def forward(self, steps=1):\n",
        "        for _ in range(steps):\n",
        "            self.reading = (self.reading + 1 - self.START) % (self.LIMIT - self.START + 1) + self.START\n",
        "            while not self.is_ascending(self.reading):\n",
        "                self.reading += 1\n",
        "\n",
        "    def backward(self, steps=1):\n",
        "        for _ in range(steps):\n",
        "            self.reading = (self.reading - 1 - self.START) % (self.LIMIT - self.START + 1) + self.START\n",
        "            while not self.is_ascending(self.reading):\n",
        "                self.reading -= 1\n",
        "\n",
        "    def distance(self, other) -> int:\n",
        "        if self.SIZE != other.SIZE:\n",
        "            return -1\n",
        "        self_copy = Odometer(self.SIZE)\n",
        "        self_copy.reading = self.reading\n",
        "        diff = 0\n",
        "        while self_copy.reading != other.reading:\n",
        "            self_copy.forward()\n",
        "            diff += 1\n",
        "        return diff\n"
      ]
    }
  ]
}